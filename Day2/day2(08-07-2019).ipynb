{
 "cells": [
  {
   "cell_type": "code",
   "execution_count": 7,
   "metadata": {},
   "outputs": [
    {
     "name": "stdout",
     "output_type": "stream",
     "text": [
      "lb=1\n",
      "ub=100\n",
      "6,12,18,24,30,36,42,48,54,60,66,72,78,84,90,96,"
     ]
    }
   ],
   "source": [
    "#Function to print all numbers divisible by 6 and not a factor of 100 in a given range(lb, ub) inclusive\n",
    "\n",
    "\n",
    "def divisibleBy6(lb, ub):\n",
    "    for i in range(lb,ub+1):\n",
    "        if i%6==0 and 100%i != 0:\n",
    "            print(i,end=\",\")\n",
    "    return\n",
    "lb = int(input(\"lb=\"))\n",
    "ub = int(input(\"ub=\"))\n",
    "\n",
    "divisibleBy6(lb, ub)"
   ]
  },
  {
   "cell_type": "code",
   "execution_count": 1,
   "metadata": {},
   "outputs": [
    {
     "name": "stdout",
     "output_type": "stream",
     "text": [
      "lb=1\n",
      "ub=100\n",
      "260100\n"
     ]
    }
   ],
   "source": [
    "# Function to find the average of cubes of all even numbers in a given range(lb, ub) inclusive\n",
    "def avgOfAllEvenCubes(lb,ub):\n",
    "    c = s = 0\n",
    "    for i in range(lb,ub+1):\n",
    "        if i%2==0:\n",
    "            s += pow(i,3)\n",
    "            c +=1\n",
    "    return s//c\n",
    "lb = int(input(\"lb=\"))\n",
    "ub = int(input(\"ub=\"))\n",
    "\n",
    "print(avgOfAllEvenCubes(lb,ub))"
   ]
  },
  {
   "cell_type": "code",
   "execution_count": 10,
   "metadata": {},
   "outputs": [
    {
     "name": "stdout",
     "output_type": "stream",
     "text": [
      "n =6\n",
      "[1, 2, 3]\n"
     ]
    }
   ],
   "source": [
    "# Function to generate the list of factors for a given number\n",
    "def generateFactors(n):\n",
    "    l = list()\n",
    "    for i in range(1, n):\n",
    "        if n%i==0:\n",
    "            l.append(i)\n",
    "    return l\n",
    "n = int(input(\"n =\"))\n",
    "print(generateFactors(n))"
   ]
  },
  {
   "cell_type": "code",
   "execution_count": 3,
   "metadata": {},
   "outputs": [
    {
     "name": "stdout",
     "output_type": "stream",
     "text": [
      "n=5\n"
     ]
    },
    {
     "data": {
      "text/plain": [
       "120"
      ]
     },
     "execution_count": 3,
     "metadata": {},
     "output_type": "execute_result"
    }
   ],
   "source": [
    "# Function to calculate the factorial of a given number\n",
    "def nthFactorial(n):\n",
    "    fact = 1\n",
    "    for i in range(1,n+1):\n",
    "        fact *= i\n",
    "    return fact\n",
    "n = int(input(\"n=\"))\n",
    "nthFactorial(n)"
   ]
  },
  {
   "cell_type": "code",
   "execution_count": 7,
   "metadata": {},
   "outputs": [
    {
     "name": "stdout",
     "output_type": "stream",
     "text": [
      "n=33\n"
     ]
    },
    {
     "data": {
      "text/plain": [
       "False"
      ]
     },
     "execution_count": 7,
     "metadata": {},
     "output_type": "execute_result"
    }
   ],
   "source": [
    "# Function to check if a given number is Prime\n",
    "def isPrime(n):\n",
    "    flag = 1\n",
    "    for i in range(2,n):\n",
    "        if n%i==0:\n",
    "            flag = 0\n",
    "    if flag == 1:\n",
    "        return True\n",
    "    else:\n",
    "        return False\n",
    "n = int(input(\"n=\"))\n",
    "isPrime(n)"
   ]
  },
  {
   "cell_type": "code",
   "execution_count": 9,
   "metadata": {},
   "outputs": [
    {
     "name": "stdout",
     "output_type": "stream",
     "text": [
      "n =6\n"
     ]
    },
    {
     "data": {
      "text/plain": [
       "3"
      ]
     },
     "execution_count": 9,
     "metadata": {},
     "output_type": "execute_result"
    }
   ],
   "source": [
    "# Function to calculate the average first N Prime numbers\n",
    "def avgOfNPrimes(n):\n",
    "    s = c = 0\n",
    "    for i in range(2,n+1):\n",
    "        if isPrime(i):\n",
    "            s += i\n",
    "            c += 1\n",
    "    return s//c\n",
    "n = int(input(\"n =\"))\n",
    "avgOfNPrimes(n)"
   ]
  },
  {
   "cell_type": "code",
   "execution_count": 13,
   "metadata": {},
   "outputs": [
    {
     "name": "stdout",
     "output_type": "stream",
     "text": [
      "n1 =1\n",
      "n2 =100\n",
      "6\n",
      "28\n"
     ]
    }
   ],
   "source": [
    "# Function to generate all Perfect numbers in a given range\n",
    "def allPerfectNumsInRange(n1,n2):\n",
    "    for i in range(n1, n2+1):\n",
    "        if i == sum(generateFactors(i)):\n",
    "            print(i)\n",
    "n1 = int(input(\"n1 =\"))\n",
    "n2 = int(input(\"n2 =\"))\n",
    "allPerfectNumsInRange(n1,n2)\n"
   ]
  },
  {
   "cell_type": "code",
   "execution_count": 15,
   "metadata": {},
   "outputs": [
    {
     "name": "stdout",
     "output_type": "stream",
     "text": [
      "n1 =1\n",
      "n2 =5\n"
     ]
    },
    {
     "data": {
      "text/plain": [
       "30"
      ]
     },
     "execution_count": 15,
     "metadata": {},
     "output_type": "execute_result"
    }
   ],
   "source": [
    "# Function to calculate the average of all factorials in a given range:\n",
    "\n",
    "def avgOfAllFactorialsInRange(n1, n2):\n",
    "    s = c = 0\n",
    "    for i in range(n1, n2+1):\n",
    "        s += nthFactorial(i)\n",
    "        c += 1\n",
    "    return s//c\n",
    "n1 = int(input(\"n1 =\"))\n",
    "n2 = int(input(\"n2 =\"))\n",
    "avgOfAllFactorialsInRange(n1, n2)"
   ]
  },
  {
   "cell_type": "code",
   "execution_count": null,
   "metadata": {},
   "outputs": [],
   "source": [
    "# Function to generate Multiplication table for a number in a given range\n",
    "def mathTables(n1,n2):\n",
    "    for i in range(n1, n2+1):\n",
    "        print(\"10\",\"*\",i,\"=\",10*i)\n",
    "n1 = int(input(\"n1 =\"))\n",
    "n2 = int(input(\"n2 =\"))\n",
    "mathTables(n1,n2)"
   ]
  },
  {
   "cell_type": "code",
   "execution_count": null,
   "metadata": {},
   "outputs": [],
   "source": []
  }
 ],
 "metadata": {
  "kernelspec": {
   "display_name": "Python 3",
   "language": "python",
   "name": "python3"
  },
  "language_info": {
   "codemirror_mode": {
    "name": "ipython",
    "version": 3
   },
   "file_extension": ".py",
   "mimetype": "text/x-python",
   "name": "python",
   "nbconvert_exporter": "python",
   "pygments_lexer": "ipython3",
   "version": "3.7.3"
  }
 },
 "nbformat": 4,
 "nbformat_minor": 2
}
