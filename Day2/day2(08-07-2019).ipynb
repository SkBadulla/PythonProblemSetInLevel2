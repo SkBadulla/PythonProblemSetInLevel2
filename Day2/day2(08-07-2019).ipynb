{
 "cells": [
  {
   "cell_type": "code",
   "execution_count": 7,
   "metadata": {},
   "outputs": [
    {
     "name": "stdout",
     "output_type": "stream",
     "text": [
      "lb=1\n",
      "ub=100\n",
      "6,12,18,24,30,36,42,48,54,60,66,72,78,84,90,96,"
     ]
    }
   ],
   "source": [
    "#Function to print all numbers divisible by 6 and not a factor of 100 in a given range(lb, ub) inclusive\n",
    "\n",
    "\n",
    "def divisibleBy6(lb, ub):\n",
    "    for i in range(lb,ub+1):\n",
    "        if i%6==0 and 100%i != 0:\n",
    "            print(i,end=\",\")\n",
    "    return\n",
    "lb = int(input(\"lb=\"))\n",
    "ub = int(input(\"ub=\"))\n",
    "\n",
    "divisibleBy6(lb, ub)"
   ]
  },
  {
   "cell_type": "code",
   "execution_count": 1,
   "metadata": {},
   "outputs": [
    {
     "name": "stdout",
     "output_type": "stream",
     "text": [
      "lb=1\n",
      "ub=100\n",
      "260100\n"
     ]
    }
   ],
   "source": [
    "# Function to find the average of cubes of all even numbers in a given range(lb, ub) inclusive\n",
    "def avgOfAllEvenCubes(lb,ub):\n",
    "    c = s = 0\n",
    "    for i in range(lb,ub+1):\n",
    "        if i%2==0:\n",
    "            s += pow(i,3)\n",
    "            c +=1\n",
    "    return s//c\n",
    "lb = int(input(\"lb=\"))\n",
    "ub = int(input(\"ub=\"))\n",
    "\n",
    "print(avgOfAllEvenCubes(lb,ub))"
   ]
  },
  {
   "cell_type": "code",
   "execution_count": 10,
   "metadata": {},
   "outputs": [
    {
     "name": "stdout",
     "output_type": "stream",
     "text": [
      "n =6\n",
      "[1, 2, 3]\n"
     ]
    }
   ],
   "source": [
    "# Function to generate the list of factors for a given number\n",
    "def generateFactors(n):\n",
    "    l = list()\n",
    "    for i in range(1, n):\n",
    "        if n%i==0:\n",
    "            l.append(i)\n",
    "    return l\n",
    "n = int(input(\"n =\"))\n",
    "print(generateFactors(n))"
   ]
  },
  {
   "cell_type": "code",
   "execution_count": 3,
   "metadata": {},
   "outputs": [
    {
     "name": "stdout",
     "output_type": "stream",
     "text": [
      "n=5\n"
     ]
    },
    {
     "data": {
      "text/plain": [
       "120"
      ]
     },
     "execution_count": 3,
     "metadata": {},
     "output_type": "execute_result"
    }
   ],
   "source": [
    "# Function to calculate the factorial of a given number\n",
    "def nthFactorial(n):\n",
    "    fact = 1\n",
    "    for i in range(1,n+1):\n",
    "        fact *= i\n",
    "    return fact\n",
    "n = int(input(\"n=\"))\n",
    "nthFactorial(n)"
   ]
  },
  {
   "cell_type": "code",
   "execution_count": 7,
   "metadata": {},
   "outputs": [
    {
     "name": "stdout",
     "output_type": "stream",
     "text": [
      "n=33\n"
     ]
    },
    {
     "data": {
      "text/plain": [
       "False"
      ]
     },
     "execution_count": 7,
     "metadata": {},
     "output_type": "execute_result"
    }
   ],
   "source": [
    "# Function to check if a given number is Prime\n",
    "def isPrime(n):\n",
    "    flag = 1\n",
    "    for i in range(2,n):\n",
    "        if n%i==0:\n",
    "            flag = 0\n",
    "    if flag == 1:\n",
    "        return True\n",
    "    else:\n",
    "        return False\n",
    "n = int(input(\"n=\"))\n",
    "isPrime(n)"
   ]
  },
  {
   "cell_type": "code",
   "execution_count": 9,
   "metadata": {},
   "outputs": [
    {
     "name": "stdout",
     "output_type": "stream",
     "text": [
      "n =6\n"
     ]
    },
    {
     "data": {
      "text/plain": [
       "3"
      ]
     },
     "execution_count": 9,
     "metadata": {},
     "output_type": "execute_result"
    }
   ],
   "source": [
    "# Function to calculate the average first N Prime numbers\n",
    "def avgOfNPrimes(n):\n",
    "    s = c = 0\n",
    "    for i in range(2,n+1):\n",
    "        if isPrime(i):\n",
    "            s += i\n",
    "            c += 1\n",
    "    return s//c\n",
    "n = int(input(\"n =\"))\n",
    "avgOfNPrimes(n)"
   ]
  },
  {
   "cell_type": "code",
   "execution_count": 13,
   "metadata": {},
   "outputs": [
    {
     "name": "stdout",
     "output_type": "stream",
     "text": [
      "n1 =1\n",
      "n2 =100\n",
      "6\n",
      "28\n"
     ]
    }
   ],
   "source": [
    "# Function to generate all Perfect numbers in a given range\n",
    "def allPerfectNumsInRange(n1,n2):\n",
    "    for i in range(n1, n2+1):\n",
    "        if i == sum(generateFactors(i)):\n",
    "            print(i)\n",
    "n1 = int(input(\"n1 =\"))\n",
    "n2 = int(input(\"n2 =\"))\n",
    "allPerfectNumsInRange(n1,n2)\n"
   ]
  },
  {
   "cell_type": "code",
   "execution_count": 15,
   "metadata": {},
   "outputs": [
    {
     "name": "stdout",
     "output_type": "stream",
     "text": [
      "n1 =1\n",
      "n2 =5\n"
     ]
    },
    {
     "data": {
      "text/plain": [
       "30"
      ]
     },
     "execution_count": 15,
     "metadata": {},
     "output_type": "execute_result"
    }
   ],
   "source": [
    "# Function to calculate the average of all factorials in a given range:\n",
    "\n",
    "def avgOfAllFactorialsInRange(n1, n2):\n",
    "    s = c = 0\n",
    "    for i in range(n1, n2+1):\n",
    "        s += nthFactorial(i)\n",
    "        c += 1\n",
    "    return s//c\n",
    "n1 = int(input(\"n1 =\"))\n",
    "n2 = int(input(\"n2 =\"))\n",
    "avgOfAllFactorialsInRange(n1, n2)"
   ]
  },
  {
   "cell_type": "code",
   "execution_count": null,
   "metadata": {},
   "outputs": [],
   "source": [
    "# Function to generate Multiplication table for a number in a given range\n",
    "def mathTables(n1,n2):\n",
    "    for i in range(n1, n2+1):\n",
    "        print(\"10\",\"*\",i,\"=\",10*i)\n",
    "n1 = int(input(\"n1 =\"))\n",
    "n2 = int(input(\"n2 =\"))\n",
    "mathTables(n1,n2)"
   ]
  },
  {
   "cell_type": "code",
   "execution_count": 2,
   "metadata": {},
   "outputs": [
    {
     "name": "stdout",
     "output_type": "stream",
     "text": [
      "B@dullA Sh@aik\n",
      "b@DULLa sH@AIK\n"
     ]
    }
   ],
   "source": [
    "# You are given a string and your task is to swap cases. In other words, \n",
    "# convert all lowercase letters to uppercase letters and vice versa. \n",
    "# (The String may contain special characters).\n",
    "def swapChar(s):\n",
    "    print(s.swapcase())\n",
    "s = input()\n",
    "swapChar(s)"
   ]
  },
  {
   "cell_type": "code",
   "execution_count": 9,
   "metadata": {},
   "outputs": [
    {
     "name": "stdout",
     "output_type": "stream",
     "text": [
      "153\n",
      "371\n",
      "407\n"
     ]
    }
   ],
   "source": [
    "# Function to generate N odd Armstrong numbers\n",
    "for num in range(100,1500):\n",
    "    sm = 0\n",
    "    for i in str(num):\n",
    "        sm += pow(int(i),len(str(num)))\n",
    "    \n",
    "    if sm==num:\n",
    "        if sm%2 != 0:\n",
    "            print (num)"
   ]
  },
  {
   "cell_type": "code",
   "execution_count": 4,
   "metadata": {},
   "outputs": [
    {
     "name": "stdout",
     "output_type": "stream",
     "text": [
      "7\n",
      "Weird\n"
     ]
    }
   ],
   "source": [
    "\"\"\"\n",
    "Given an integer, ’n’ , perform the following conditional actions:\n",
    "If ‘n’  is odd, print Weird\n",
    "If  ‘n’ is even and in the inclusive range of 2 to 5, print Not Weird\n",
    "If  ‘n’ is even and in the inclusive range of 6 to 20 , print Weird\n",
    "If  ‘n’ is even and greater than 20, print Not Weird\n",
    "\"\"\"\n",
    "\n",
    "n = int(input())\n",
    "\n",
    "if n%2 != 0:\n",
    "    print(\"Weird\")\n",
    "elif(n>=2 and n<=5):\n",
    "    print(\"Not Weird\")\n",
    "elif(n>=6 and n<=20):\n",
    "    print(\"Weird\")\n",
    "elif(n>20):\n",
    "    print(\"Not Weird\")\n",
    "     \n",
    "    \n"
   ]
  },
  {
   "cell_type": "code",
   "execution_count": 14,
   "metadata": {},
   "outputs": [
    {
     "name": "stdout",
     "output_type": "stream",
     "text": [
      "1\n",
      "77\n",
      "111"
     ]
    }
   ],
   "source": [
    "def segCount(v):\n",
    "    d={'0':6,'1':2,'2':5,'3':5,'4':4,'5':5,'6':6,'7':3,'8':7,'9':6}\n",
    "    sm = 0\n",
    "    for i in v:\n",
    "        sm += d[i]\n",
    "    \n",
    "    for i in range(sm//2):\n",
    "        print(\"1\",end=\"\")\n",
    "    \n",
    "\n",
    "n = int(input())\n",
    "for i in range(n):\n",
    "    v = input()\n",
    "    segCount(v)"
   ]
  },
  {
   "cell_type": "code",
   "execution_count": 29,
   "metadata": {},
   "outputs": [
    {
     "name": "stdout",
     "output_type": "stream",
     "text": [
      "1 Siva\n",
      "2 Salman\n",
      "3 Abdul\n",
      "4 Abdulla\n",
      "5 Rehman\n",
      "6 Badulla\n"
     ]
    }
   ],
   "source": [
    "# Given all the individual scores of 10 batsman along with their names \n",
    "# print their ranking based on the scores\n",
    "# Example:\n",
    "    #Badulla : 20\n",
    "    # Abdul : 200\n",
    "    # Abdulla :150\n",
    "    # Rehman :100\n",
    "# 1 Abdul\n",
    "# 2 Abdulla\n",
    "# 3 Rehman\n",
    "# 4 Badulla\n",
    "\n",
    "bts = {\"Badulla\" : 20,\"Salman\":500,\"Siva\":600,\"Abdul\" : 200,\"Abdulla\" :150,\"Rehman\" :100}\n",
    "scr = sorted(bts.values(),reverse=True)\n",
    "for i in range(len(scr)):\n",
    "    for k, v in bts.items():\n",
    "        if scr[i]== v:\n",
    "            print(i+1,k)\n",
    "            break\n",
    "    i += 1\n"
   ]
  },
  {
   "cell_type": "code",
   "execution_count": 38,
   "metadata": {},
   "outputs": [
    {
     "data": {
      "text/plain": [
       "5000000015"
      ]
     },
     "execution_count": 38,
     "metadata": {},
     "output_type": "execute_result"
    }
   ],
   "source": [
    "1000000001+1000000002+1000000003+1000000004+1000000005\n",
    "#sum([1000000000,1000000000,1000000000,100000000,1000000000])"
   ]
  },
  {
   "cell_type": "code",
   "execution_count": 11,
   "metadata": {},
   "outputs": [
    {
     "data": {
      "text/plain": [
       "10"
      ]
     },
     "execution_count": 11,
     "metadata": {},
     "output_type": "execute_result"
    }
   ],
   "source": [
    "n='1234567890098765432'\n",
    "l=list(set(n))\n",
    "len(l)"
   ]
  },
  {
   "cell_type": "code",
   "execution_count": 12,
   "metadata": {},
   "outputs": [
    {
     "name": "stdout",
     "output_type": "stream",
     "text": [
      "['ab', 'ybc', 'qwert', 'abijcde']\n"
     ]
    }
   ],
   "source": [
    "\n",
    "# d={}\n",
    "# cars=[]\n",
    "# for word in words:\n",
    "#     d[word]=len(word)\n",
    "# le = sorted(d.values())\n",
    "# for i in le:\n",
    "#     for car,le in d.items():\n",
    "#         if le==i:\n",
    "#             cars.append(car)\n",
    "# cars\n",
    "\n",
    "def myFunc(e):\n",
    "    return len(e)\n",
    "words = ['ybc','abijcde','ab','qwert']\n",
    "words.sort(key=myFunc)\n",
    "print(words)"
   ]
  },
  {
   "cell_type": "code",
   "execution_count": null,
   "metadata": {},
   "outputs": [],
   "source": []
  }
 ],
 "metadata": {
  "kernelspec": {
   "display_name": "Python 3",
   "language": "python",
   "name": "python3"
  },
  "language_info": {
   "codemirror_mode": {
    "name": "ipython",
    "version": 3
   },
   "file_extension": ".py",
   "mimetype": "text/x-python",
   "name": "python",
   "nbconvert_exporter": "python",
   "pygments_lexer": "ipython3",
   "version": "3.7.3"
  }
 },
 "nbformat": 4,
 "nbformat_minor": 2
}
