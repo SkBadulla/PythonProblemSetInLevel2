{
 "cells": [
  {
   "cell_type": "code",
   "execution_count": 2,
   "metadata": {},
   "outputs": [
    {
     "name": "stdout",
     "output_type": "stream",
     "text": [
      "70\n",
      "71\n",
      "72\n",
      "73\n",
      "74\n",
      "75\n",
      "76\n",
      "77\n",
      "78\n",
      "79\n",
      "80\n"
     ]
    }
   ],
   "source": [
    "for i in range(ord(\"F\"),ord(\"Q\")):\n",
    "    print(i)"
   ]
  },
  {
   "cell_type": "code",
   "execution_count": 4,
   "metadata": {},
   "outputs": [
    {
     "name": "stdout",
     "output_type": "stream",
     "text": [
      "1\n"
     ]
    }
   ],
   "source": [
    "s = \"aahkcreeatrha\"\n",
    "li= list()\n",
    "li.append(s.count('a')/2)\n",
    "li.append(s.count('c'))\n",
    "li.append(s.count('e')/2)\n",
    "li.append(s.count('h')/2)\n",
    "li.append(s.count('k'))\n",
    "li.append(s.count('r')/2)\n",
    "li.append(s.count('t'))\n",
    "print(min(li))"
   ]
  },
  {
   "cell_type": "code",
   "execution_count": 5,
   "metadata": {},
   "outputs": [
    {
     "name": "stdout",
     "output_type": "stream",
     "text": [
      "1 ==\n",
      "5\n",
      "2 ==\n",
      "7\n",
      "3 ==\n",
      "3\n"
     ]
    }
   ],
   "source": [
    "# The Great Kian\n",
    "li=[1,2,3,4,5]\n",
    "li1=[]\n",
    "for i in range(1,4):\n",
    "    print(i,\"==\")\n",
    "    sm = 0\n",
    "    for j in range(i,len(li)+1,3):\n",
    "        sm+=li[j-1]\n",
    "    print(sm)"
   ]
  },
  {
   "cell_type": "code",
   "execution_count": 9,
   "metadata": {},
   "outputs": [
    {
     "name": "stdout",
     "output_type": "stream",
     "text": [
      "Good luck!\n"
     ]
    }
   ],
   "source": [
    "# Little Jhool and psychic powers\n",
    "\n",
    "# s=\"0001111110\"\n",
    "s=\"1100000111\"\n",
    "r1 = \"1\"*6\n",
    "r2 = \"0\"*6\n",
    "if r1 in s or r2 in s:\n",
    "    print(\"Sorry, sorry!\")\n",
    "else:\n",
    "    print(\"Good luck!\")"
   ]
  },
  {
   "cell_type": "code",
   "execution_count": 45,
   "metadata": {},
   "outputs": [
    {
     "name": "stdout",
     "output_type": "stream",
     "text": [
      "21 5 2\n",
      "2 4\n",
      "4 8\n",
      "4\n"
     ]
    }
   ],
   "source": [
    "# City Travel\n",
    "def city(S):\n",
    "   total_distance, distancePerday, excp = list(map(int,S.split()))\n",
    "   exceptions = []\n",
    "   for t in range(excp):\n",
    "       (ith, dist) = list(map(int, input().split()))\n",
    "       exceptions.append((ith, dist))\n",
    "   initial_distance = 0\n",
    "   no_of_days = 1\n",
    "   while(initial_distance < total_distance):\n",
    "       for i in exceptions:\n",
    "           if(i[0] == no_of_days):\n",
    "               initial_distance += i[1]\n",
    "           else:\n",
    "               initial_distance += distancePerday\n",
    "       no_of_days += 1\n",
    "   print(no_of_days)\n",
    "               \n",
    "       \n",
    "       \n",
    "   \n",
    "S = input()\n",
    "\n",
    "city(S)\n"
   ]
  },
  {
   "cell_type": "code",
   "execution_count": null,
   "metadata": {},
   "outputs": [],
   "source": []
  },
  {
   "cell_type": "code",
   "execution_count": 69,
   "metadata": {},
   "outputs": [
    {
     "name": "stdout",
     "output_type": "stream",
     "text": [
      "Help on method_descriptor:\n",
      "\n",
      "sort(self, /, *, key=None, reverse=False)\n",
      "    Stable sort *IN PLACE*.\n",
      "\n"
     ]
    }
   ],
   "source": [
    "help(list.sort)"
   ]
  },
  {
   "cell_type": "code",
   "execution_count": 65,
   "metadata": {},
   "outputs": [
    {
     "data": {
      "text/plain": [
       "'Ifmmp nz obnf jt 1234567'"
      ]
     },
     "execution_count": 65,
     "metadata": {},
     "output_type": "execute_result"
    }
   ],
   "source": [
    "s=\"Hello my name is 1234567\"\n",
    "s1=\"\"\n",
    "for i in s:\n",
    "    if i.isalpha():\n",
    "        s1+=chr(ord(i)+1)\n",
    "    else:\n",
    "        s1+=i\n",
    "s1"
   ]
  },
  {
   "cell_type": "code",
   "execution_count": 5,
   "metadata": {},
   "outputs": [
    {
     "name": "stdout",
     "output_type": "stream",
     "text": [
      "False\n"
     ]
    }
   ],
   "source": [
    "n='1234567898765432'\n",
    "l=list(set(n))\n",
    "if n.isdigit():\n",
    "    if len(l)==10:\n",
    "        print(\"True\")\n",
    "    else:\n",
    "        print(\"False\")"
   ]
  },
  {
   "cell_type": "code",
   "execution_count": 7,
   "metadata": {},
   "outputs": [
    {
     "data": {
      "text/plain": [
       "1"
      ]
     },
     "execution_count": 7,
     "metadata": {},
     "output_type": "execute_result"
    }
   ],
   "source": [
    "l=[-1,-2,3,4,-5]\n",
    "abs(sum(l))"
   ]
  },
  {
   "cell_type": "code",
   "execution_count": 2,
   "metadata": {},
   "outputs": [
    {
     "data": {
      "text/plain": [
       "['siva', 'abdul', 'badulla', 'abdulla', 'sunil kumar']"
      ]
     },
     "execution_count": 2,
     "metadata": {},
     "output_type": "execute_result"
    }
   ],
   "source": [
    "# Sorting list elements based on string length\n",
    "l=['badulla','abdul','abdulla','siva','sunil kumar']\n",
    "\n",
    "l.sort(key=len)\n",
    "l"
   ]
  },
  {
   "cell_type": "code",
   "execution_count": 3,
   "metadata": {},
   "outputs": [
    {
     "name": "stdout",
     "output_type": "stream",
     "text": [
      "2\n",
      "badulla 23 45 67 87\n",
      "abdul 34 56 65 78 \n"
     ]
    },
    {
     "data": {
      "text/plain": [
       "[['badulla', '23', '45', '67', '87'], ['abdul', '34', '56', '65', '78']]"
      ]
     },
     "execution_count": 3,
     "metadata": {},
     "output_type": "execute_result"
    }
   ],
   "source": [
    "# find average of a perticular student\n",
    "\n",
    "t = int(input())\n",
    "stu=[]\n",
    "for i in range(t):\n",
    "    r = input().split()\n",
    "    stu.append(r)\n",
    "stu"
   ]
  },
  {
   "cell_type": "code",
   "execution_count": 25,
   "metadata": {},
   "outputs": [
    {
     "name": "stdout",
     "output_type": "stream",
     "text": [
      "abdul\n",
      "58.25\n"
     ]
    }
   ],
   "source": [
    "name = input()\n",
    "sm=0\n",
    "avg=0\n",
    "for r in stu:\n",
    "    \n",
    "    if name == r[0]:\n",
    "        #avg=sum(list(map(int,[i for i in r[1:]])))/len(r[1:])\n",
    "        for i in r[1:]:\n",
    "            sm += int(i)\n",
    "        avg=sm/len(r[1:])\n",
    "        break\n",
    "        \n",
    "print(avg)"
   ]
  },
  {
   "cell_type": "code",
   "execution_count": 9,
   "metadata": {},
   "outputs": [
    {
     "data": {
      "text/plain": [
       "[1, 2, 3, 4, 5, 6, 7, 8, 9]"
      ]
     },
     "execution_count": 9,
     "metadata": {},
     "output_type": "execute_result"
    }
   ],
   "source": [
    "[i for i in range(1,10)]"
   ]
  },
  {
   "cell_type": "code",
   "execution_count": null,
   "metadata": {},
   "outputs": [],
   "source": []
  }
 ],
 "metadata": {
  "kernelspec": {
   "display_name": "Python 3",
   "language": "python",
   "name": "python3"
  },
  "language_info": {
   "codemirror_mode": {
    "name": "ipython",
    "version": 3
   },
   "file_extension": ".py",
   "mimetype": "text/x-python",
   "name": "python",
   "nbconvert_exporter": "python",
   "pygments_lexer": "ipython3",
   "version": "3.7.3"
  }
 },
 "nbformat": 4,
 "nbformat_minor": 2
}
